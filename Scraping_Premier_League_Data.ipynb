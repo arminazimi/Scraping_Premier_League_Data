{
 "metadata": {
  "language_info": {
   "codemirror_mode": {
    "name": "ipython",
    "version": 3
   },
   "file_extension": ".py",
   "mimetype": "text/x-python",
   "name": "python",
   "nbconvert_exporter": "python",
   "pygments_lexer": "ipython3",
   "version": "3.8.4-final"
  },
  "orig_nbformat": 2,
  "kernelspec": {
   "name": "Python 3.8.4 32-bit",
   "display_name": "Python 3.8.4 32-bit",
   "metadata": {
    "interpreter": {
     "hash": "f0cdc4910d9deca7a9de00566e555a3d4346f2a62c848a4400c41f68aafe997e"
    }
   }
  }
 },
 "nbformat": 4,
 "nbformat_minor": 2,
 "cells": [
  {
   "cell_type": "code",
   "execution_count": 1,
   "metadata": {},
   "outputs": [],
   "source": [
    "import requests\n",
    "from bs4 import BeautifulSoup\n",
    "import pandas as pd"
   ]
  },
  {
   "cell_type": "code",
   "execution_count": 2,
   "metadata": {},
   "outputs": [],
   "source": [
    "url = 'https://www.skysports.com/premier-league-table/2019'"
   ]
  },
  {
   "cell_type": "code",
   "execution_count": 3,
   "metadata": {},
   "outputs": [],
   "source": [
    "page = requests.get(url)\n",
    "# print(page.status_code)\n",
    "# print(page.text)"
   ]
  },
  {
   "cell_type": "code",
   "execution_count": 4,
   "metadata": {},
   "outputs": [],
   "source": [
    "soup  = BeautifulSoup(page.text , 'html.parser')\n",
    "# print(soup.prettify)\n",
    "# print(soup.find_all('a'))"
   ]
  },
  {
   "cell_type": "code",
   "execution_count": 5,
   "metadata": {},
   "outputs": [],
   "source": [
    "league = soup.find('table',class_ = \"standing-table__table\")\n",
    "# print(league)"
   ]
  },
  {
   "cell_type": "code",
   "execution_count": 6,
   "metadata": {},
   "outputs": [],
   "source": [
    "league_table = league.find_all('tbody')\n",
    "# print(league_table)"
   ]
  },
  {
   "cell_type": "code",
   "execution_count": 7,
   "metadata": {},
   "outputs": [],
   "source": [
    "league_2019 = []\n",
    "for teams in league_table:\n",
    "    rows = teams.find_all('tr')\n",
    "    for row in rows:\n",
    "        team_name = row.find('td',class_ = 'standing-table__cell standing-table__cell--name').text.strip()\n",
    "        team_point = row.find_all('td', class_ = 'standing-table__cell' )[9].text.strip()\n",
    "        league_dict = {\n",
    "            'name': team_name,\n",
    "            'points': team_point\n",
    "        }\n",
    "        league_2019.append(league_dict)\n",
    "        "
   ]
  },
  {
   "cell_type": "code",
   "execution_count": 8,
   "metadata": {},
   "outputs": [],
   "source": [
    "df = pd.DataFrame(league_2019)"
   ]
  },
  {
   "cell_type": "code",
   "execution_count": 9,
   "metadata": {},
   "outputs": [
    {
     "output_type": "execute_result",
     "data": {
      "text/plain": "                        name points\n0                  Liverpool     99\n1            Manchester City     81\n2          Manchester United     66\n3                    Chelsea     66\n4             Leicester City     62\n5          Tottenham Hotspur     59\n6    Wolverhampton Wanderers     59\n7                    Arsenal     56\n8           Sheffield United     54\n9                    Burnley     54\n10               Southampton     52\n11                   Everton     49\n12          Newcastle United     44\n13            Crystal Palace     43\n14  Brighton and Hove Albion     41\n15           West Ham United     39\n16               Aston Villa     35\n17               Bournemouth     34\n18                   Watford     34\n19              Norwich City     21",
      "text/html": "<div>\n<style scoped>\n    .dataframe tbody tr th:only-of-type {\n        vertical-align: middle;\n    }\n\n    .dataframe tbody tr th {\n        vertical-align: top;\n    }\n\n    .dataframe thead th {\n        text-align: right;\n    }\n</style>\n<table border=\"1\" class=\"dataframe\">\n  <thead>\n    <tr style=\"text-align: right;\">\n      <th></th>\n      <th>name</th>\n      <th>points</th>\n    </tr>\n  </thead>\n  <tbody>\n    <tr>\n      <th>0</th>\n      <td>Liverpool</td>\n      <td>99</td>\n    </tr>\n    <tr>\n      <th>1</th>\n      <td>Manchester City</td>\n      <td>81</td>\n    </tr>\n    <tr>\n      <th>2</th>\n      <td>Manchester United</td>\n      <td>66</td>\n    </tr>\n    <tr>\n      <th>3</th>\n      <td>Chelsea</td>\n      <td>66</td>\n    </tr>\n    <tr>\n      <th>4</th>\n      <td>Leicester City</td>\n      <td>62</td>\n    </tr>\n    <tr>\n      <th>5</th>\n      <td>Tottenham Hotspur</td>\n      <td>59</td>\n    </tr>\n    <tr>\n      <th>6</th>\n      <td>Wolverhampton Wanderers</td>\n      <td>59</td>\n    </tr>\n    <tr>\n      <th>7</th>\n      <td>Arsenal</td>\n      <td>56</td>\n    </tr>\n    <tr>\n      <th>8</th>\n      <td>Sheffield United</td>\n      <td>54</td>\n    </tr>\n    <tr>\n      <th>9</th>\n      <td>Burnley</td>\n      <td>54</td>\n    </tr>\n    <tr>\n      <th>10</th>\n      <td>Southampton</td>\n      <td>52</td>\n    </tr>\n    <tr>\n      <th>11</th>\n      <td>Everton</td>\n      <td>49</td>\n    </tr>\n    <tr>\n      <th>12</th>\n      <td>Newcastle United</td>\n      <td>44</td>\n    </tr>\n    <tr>\n      <th>13</th>\n      <td>Crystal Palace</td>\n      <td>43</td>\n    </tr>\n    <tr>\n      <th>14</th>\n      <td>Brighton and Hove Albion</td>\n      <td>41</td>\n    </tr>\n    <tr>\n      <th>15</th>\n      <td>West Ham United</td>\n      <td>39</td>\n    </tr>\n    <tr>\n      <th>16</th>\n      <td>Aston Villa</td>\n      <td>35</td>\n    </tr>\n    <tr>\n      <th>17</th>\n      <td>Bournemouth</td>\n      <td>34</td>\n    </tr>\n    <tr>\n      <th>18</th>\n      <td>Watford</td>\n      <td>34</td>\n    </tr>\n    <tr>\n      <th>19</th>\n      <td>Norwich City</td>\n      <td>21</td>\n    </tr>\n  </tbody>\n</table>\n</div>"
     },
     "metadata": {},
     "execution_count": 9
    }
   ],
   "source": [
    "df"
   ]
  },
  {
   "cell_type": "code",
   "execution_count": 11,
   "metadata": {},
   "outputs": [],
   "source": [
    "df.to_csv(\"Premier_League_table.csv\")"
   ]
  },
  {
   "cell_type": "code",
   "execution_count": null,
   "metadata": {},
   "outputs": [],
   "source": []
  }
 ]
}